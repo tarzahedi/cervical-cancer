{
 "cells": [
  {
   "cell_type": "code",
   "execution_count": null,
   "id": "277b0a67-b4d3-4eed-8cac-884f3c7aef50",
   "metadata": {},
   "outputs": [],
   "source": [
    "import numpy as np\n",
    "import pandas as pd\n",
    "import seaborn as sns\n",
    "import matplotlib.pyplot as plt\n",
    "import warnings\n",
    "warnings.filterwarnings(\"ignore\")\n",
    "\n",
    "from sklearn.model_selection import train_test_split\n",
    "from sklearn.preprocessing import StandardScaler\n",
    "from sklearn.metrics import accuracy_score\n",
    "\n",
    "from sklearn.svm import SVC\n",
    "from sklearn.linear_model import LogisticRegression\n",
    "from xgboost import XGBClassifier\n",
    "from sklearn.ensemble import RandomForestClassifier\n",
    "from sklearn.naive_bayes import BernoulliNB\n",
    "from sklearn.naive_bayes import GaussianNB\n",
    "from sklearn.neighbors import KNeighborsClassifier"
   ]
  },
  {
   "cell_type": "code",
   "execution_count": null,
   "id": "9fa0a99f-3443-4ff3-978b-59078297d573",
   "metadata": {},
   "outputs": [],
   "source": [
    "# Read csv file\n",
    "df = pd.read_csv('kag_risk_factors_cervical_cancer.csv')"
   ]
  },
  {
   "cell_type": "code",
   "execution_count": null,
   "id": "08640947-10a2-4737-a0f5-c7a750341b92",
   "metadata": {},
   "outputs": [],
   "source": [
    "# Taking a look at the first 5 rows of the dataset\n",
    "df.head()"
   ]
  },
  {
   "cell_type": "code",
   "execution_count": null,
   "id": "95e257eb-3c1a-41a7-bb5e-96dc9cef1336",
   "metadata": {},
   "outputs": [],
   "source": [
    "# Checking the shape (size) of dataset\n",
    "df.shape"
   ]
  },
  {
   "cell_type": "code",
   "execution_count": null,
   "id": "4972f4eb-e25c-43c4-b9d6-4596f957ea70",
   "metadata": {},
   "outputs": [],
   "source": [
    "# Checking the columns' data types\n",
    "df.info()"
   ]
  },
  {
   "cell_type": "code",
   "execution_count": null,
   "id": "c864a835-6928-4799-9868-45ff41cab314",
   "metadata": {},
   "outputs": [],
   "source": [
    "# Getting the statistical summary of dataset\n",
    "df.describe().T"
   ]
  },
  {
   "cell_type": "markdown",
   "id": "309617eb-a240-4100-9423-7a7f79dd6bb8",
   "metadata": {},
   "source": [
    "# Data Cleaning"
   ]
  },
  {
   "cell_type": "code",
   "execution_count": null,
   "id": "ddfd49cb-ec0a-46d2-a13f-44cd93a1dfa7",
   "metadata": {},
   "outputs": [],
   "source": [
    "# Checking for the missing values\n",
    "df.isnull().sum()"
   ]
  },
  {
   "cell_type": "code",
   "execution_count": null,
   "id": "81ea291c-d0fd-45d5-b9f3-2ac5b8429cd5",
   "metadata": {},
   "outputs": [],
   "source": [
    "# Checking for the duplicates\n",
    "df.duplicated().sum()"
   ]
  },
  {
   "cell_type": "code",
   "execution_count": null,
   "id": "79486ab3-2f52-4a86-89a1-b8a30d9a4e0b",
   "metadata": {},
   "outputs": [],
   "source": [
    "# Handling the duplicates\n",
    "df.drop_duplicates(inplace=True)"
   ]
  },
  {
   "cell_type": "code",
   "execution_count": null,
   "id": "1398efc2-3457-4aa9-a0de-e3ae4d86d4bb",
   "metadata": {},
   "outputs": [],
   "source": [
    "df.duplicated().sum()"
   ]
  },
  {
   "cell_type": "markdown",
   "id": "ac4ec34d-665a-4469-8979-50f4bb7d06e6",
   "metadata": {},
   "source": [
    "# Data Visualization"
   ]
  },
  {
   "cell_type": "code",
   "execution_count": null,
   "id": "4b351046-012e-4d42-91a9-0f808d48fc31",
   "metadata": {},
   "outputs": [],
   "source": [
    "plt.figure(figsize=(10,6))\n",
    "sns.distplot(df[\"Age\"])\n",
    "plt.title(\"Age\", size=15)\n",
    "plt.show()"
   ]
  },
  {
   "cell_type": "code",
   "execution_count": null,
   "id": "dcef02ac-5263-4fbb-9f92-b877b0d4bee5",
   "metadata": {},
   "outputs": [],
   "source": [
    "plt.figure(figsize=(10,6))\n",
    "sns.countplot(df[\"Number of sexual partners\"])\n",
    "plt.title(\"Number of sexual partners\", size=15)\n",
    "plt.show()"
   ]
  },
  {
   "cell_type": "code",
   "execution_count": null,
   "id": "83ed543d-7779-44ff-b54e-79208158618b",
   "metadata": {},
   "outputs": [],
   "source": [
    "plt.figure(figsize=(10,6))\n",
    "sns.countplot(df[\"Hormonal Contraceptives\"])\n",
    "plt.title(\"Hormonal Contraceptiveses\", size=15)\n",
    "plt.show()"
   ]
  },
  {
   "cell_type": "code",
   "execution_count": null,
   "id": "ce9f1244-f325-4192-a266-03505d570c15",
   "metadata": {},
   "outputs": [],
   "source": [
    "plt.figure(figsize=(10,8))\n",
    "sns.barplot(x=df[\"Smokes\"], y=df[\"Biopsy\"])\n",
    "plt.title(\"Biopsy vs Smokes\", size=15)\n",
    "plt.show()"
   ]
  },
  {
   "cell_type": "code",
   "execution_count": null,
   "id": "ca4ecb1e-d6cf-46f6-9841-3bbb3cc716f9",
   "metadata": {},
   "outputs": [],
   "source": [
    "plt.figure(figsize=(10,6))\n",
    "sns.countplot(df[\"Num of pregnancies\"])\n",
    "plt.title(\"Num of pregnancies\", size=15)\n",
    "plt.show()"
   ]
  },
  {
   "cell_type": "code",
   "execution_count": null,
   "id": "2c071802-9f53-4c5b-85a0-e50810122d53",
   "metadata": {},
   "outputs": [],
   "source": [
    "plt.figure(figsize=(10,8))\n",
    "sns.distplot(df[df[\"Biopsy\"]==1][\"Age\"], color=\"blue\")\n",
    "sns.distplot(df[df[\"Biopsy\"]==0][\"Age\"], color=\"red\")\n",
    "plt.title(\"Biopsy vs Age\", size=15)\n",
    "plt.show()"
   ]
  },
  {
   "cell_type": "code",
   "execution_count": null,
   "id": "b73447eb-1ed5-4791-8829-7058abcbdfd9",
   "metadata": {},
   "outputs": [],
   "source": [
    "plt.figure(figsize=(12,10))\n",
    "sns.heatmap(df.corr(),annot=True, cmap=\"RdBu\")\n",
    "plt.title(\"Correlation Between Variables\", size=15)\n",
    "plt.show()"
   ]
  },
  {
   "cell_type": "markdown",
   "id": "6bccf0ee-827b-41fb-84f7-a6914382a26f",
   "metadata": {},
   "source": [
    "# Data Preprocessing"
   ]
  },
  {
   "cell_type": "code",
   "execution_count": null,
   "id": "ff24f132-60d4-486c-bdf3-84d278a22bdc",
   "metadata": {},
   "outputs": [],
   "source": [
    "# Split the data into X, y datasets\n",
    "features = [\"Age\", \"STDs: Number of diagnosis\", \"Dx:Cancer\", \"Dx:CIN\", \"Dx:HPV\", \"Dx\", \"Hinselmann\", \"Schiller\", \"Citology\"]\n",
    "X = df[features]\n",
    "y = df[\"Biopsy\"]"
   ]
  },
  {
   "cell_type": "code",
   "execution_count": null,
   "id": "1d42c807-d239-48eb-80ea-244e9e87f5b4",
   "metadata": {},
   "outputs": [],
   "source": [
    "# Standardizing the data\n",
    "ss = StandardScaler()\n",
    "X = ss.fit_transform(X)"
   ]
  },
  {
   "cell_type": "code",
   "execution_count": null,
   "id": "2f4a836b-aad7-43d7-aeef-0a68140aa8d9",
   "metadata": {},
   "outputs": [],
   "source": [
    "X = pd.DataFrame(X, columns=[\"Age\", \"STDs: Number of diagnosis\", \"Dx:Cancer\", \"Dx:CIN\", \"Dx:HPV\", \"Dx\", \"Hinselmann\", \"Schiller\", \"Citology\"])\n",
    "y = pd.DataFrame(y, columns=[\"Biopsy\"])"
   ]
  },
  {
   "cell_type": "code",
   "execution_count": null,
   "id": "0b41db85-a8d6-4371-9acb-001aad73760f",
   "metadata": {},
   "outputs": [],
   "source": [
    "# Train-Test split\n",
    "X_train, X_test, y_train, y_test = train_test_split(X, y, test_size=0.2, random_state=42)"
   ]
  },
  {
   "cell_type": "markdown",
   "id": "0231c753-dc3b-4b46-8447-27e0063c9188",
   "metadata": {},
   "source": [
    "# Machine Learning Models"
   ]
  },
  {
   "cell_type": "code",
   "execution_count": null,
   "id": "d1eef001-b434-4548-9663-4fe14c926434",
   "metadata": {},
   "outputs": [],
   "source": [
    "models = pd.DataFrame(columns=[\"Model\",\"Accuracy Score\"])"
   ]
  },
  {
   "cell_type": "code",
   "execution_count": null,
   "id": "e559acb9-a464-44b1-a1d5-66a1c8d920aa",
   "metadata": {},
   "outputs": [],
   "source": [
    "log_reg = LogisticRegression()\n",
    "log_reg.fit(X_train, y_train)\n",
    "predictions = log_reg.predict(X_test)\n",
    "score = accuracy_score(y_test, predictions)\n",
    "print(\"LogisticRegression: \", score)\n",
    "\n",
    "new_row = {\"Model\": \"LogisticRegression\", \"Accuracy Score\": score}\n",
    "models = models.append(new_row, ignore_index=True)"
   ]
  },
  {
   "cell_type": "code",
   "execution_count": null,
   "id": "e8f3a6dc-f6d4-42bd-9e04-7c184ec2097c",
   "metadata": {},
   "outputs": [],
   "source": [
    "GNB = GaussianNB()\n",
    "GNB.fit(X_train, y_train)\n",
    "predictions = GNB.predict(X_test)\n",
    "score = accuracy_score(y_test, predictions)\n",
    "print(\"GaussianNB: \", score)\n",
    "\n",
    "new_row = {\"Model\": \"GaussianNB\", \"Accuracy Score\": score}\n",
    "models = models.append(new_row, ignore_index=True)\n"
   ]
  },
  {
   "cell_type": "code",
   "execution_count": null,
   "id": "33b90071-02d5-40f6-a2bf-424812b2b442",
   "metadata": {},
   "outputs": [],
   "source": [
    "BNB = BernoulliNB()\n",
    "BNB.fit(X_train, y_train)\n",
    "predictions = BNB.predict(X_test)\n",
    "score = accuracy_score(y_test, predictions)\n",
    "print(\"BernoulliNB: \", score)\n",
    "\n",
    "new_row = {\"Model\": \"BernoulliNB\", \"Accuracy Score\": score}\n",
    "models = models.append(new_row, ignore_index=True)"
   ]
  },
  {
   "cell_type": "code",
   "execution_count": null,
   "id": "509115e6-31d0-4d67-9cc3-f7697cdd5f95",
   "metadata": {},
   "outputs": [],
   "source": [
    "svm = SVC(random_state=0)\n",
    "svm.fit(X_train, y_train)\n",
    "predictions = svm.predict(X_test)\n",
    "score = accuracy_score(y_test, predictions)\n",
    "print(\"SVC: \", score)\n",
    "\n",
    "new_row = {\"Model\": \"SVC\", \"Accuracy Score\": score}\n",
    "models = models.append(new_row, ignore_index=True)\n"
   ]
  },
  {
   "cell_type": "code",
   "execution_count": null,
   "id": "630de010-47dc-4479-8d18-f16f870c531e",
   "metadata": {},
   "outputs": [],
   "source": [
    "randomforest = RandomForestClassifier(n_estimators=1000, max_depth=5, random_state=42)\n",
    "randomforest.fit(X_train, y_train)\n",
    "predictions = randomforest.predict(X_test)\n",
    "score = accuracy_score(y_test, predictions)\n",
    "print(\"RandomForestClassifier: \", score)\n",
    "\n",
    "new_row = {\"Model\": \"RandomForestClassifier\", \"Accuracy Score\": score}\n",
    "models = models.append(new_row, ignore_index=True)"
   ]
  },
  {
   "cell_type": "code",
   "execution_count": null,
   "id": "dcfa4877-a6b6-4767-8b6c-8a219030b28a",
   "metadata": {},
   "outputs": [],
   "source": [
    "xgb = XGBClassifier()\n",
    "xgb.fit(X_train, y_train)\n",
    "predictions = xgb.predict(X_test)\n",
    "score = accuracy_score(y_test, predictions)\n",
    "print(\"XGBClassifier: \", score)\n",
    "\n",
    "new_row = {\"Model\": \"XGBClassifier\", \"Accuracy Score\": score}\n",
    "models = models.append(new_row, ignore_index=True)\n"
   ]
  },
  {
   "cell_type": "code",
   "execution_count": null,
   "id": "b0d2d843-707d-4ef2-8189-38b0a8e65497",
   "metadata": {},
   "outputs": [],
   "source": [
    "knn = KNeighborsClassifier(n_neighbors=5)\n",
    "knn.fit(X_train, y_train)\n",
    "predictions = knn.predict(X_test)\n",
    "score = accuracy_score(y_test, predictions)\n",
    "print(\"KNeighborsClassifier: \", score)"
   ]
  },
  {
   "cell_type": "code",
   "execution_count": null,
   "id": "5275fb66-884e-4fa8-bcf1-29f6bb40dd22",
   "metadata": {},
   "outputs": [],
   "source": [
    "# Optimizing the KNN Model\n",
    "score_list=[]\n",
    "\n",
    "for i in range(1,20):\n",
    "    knn2 = KNeighborsClassifier(n_neighbors=i)\n",
    "    knn2.fit(X_train, y_train)\n",
    "    predictions = knn2.predict(X_test)\n",
    "    score_list.append(accuracy_score(predictions, y_test))"
   ]
  },
  {
   "cell_type": "code",
   "execution_count": null,
   "id": "7b96f89c-e706-4755-a16f-7a04fd7dea2b",
   "metadata": {},
   "outputs": [],
   "source": [
    "plt.figure(figsize =(10, 6))\n",
    "plt.plot(range(1, 20), score_list, marker ='o', markerfacecolor ='red', markersize = 10)\n",
    "  \n",
    "plt.title('Score vs K Value', size=15)\n",
    "plt.xlabel('K value')\n",
    "plt.ylabel('Score')"
   ]
  },
  {
   "cell_type": "markdown",
   "id": "fc951930-a199-44ba-8266-9676e495d64d",
   "metadata": {},
   "source": [
    "The K value that we get the highest accuracy score with is between 12 and 15, so we are setting the \"n_neighbors\" parameter to 14"
   ]
  },
  {
   "cell_type": "code",
   "execution_count": null,
   "id": "fab4c771-073e-4cf0-a0b6-ff19a19aed26",
   "metadata": {},
   "outputs": [],
   "source": [
    "knn3 = KNeighborsClassifier(n_neighbors=14)\n",
    "knn3.fit(X_train, y_train)\n",
    "predictions = knn3.predict(X_test)\n",
    "score = accuracy_score(y_test, predictions)\n",
    "print(\"KNeighborsClassifier: \", score)\n",
    "\n",
    "new_row = {\"Model\": \"KNeighborsClassifier\", \"Accuracy Score\": score}\n",
    "models = models.append(new_row, ignore_index=True)"
   ]
  },
  {
   "cell_type": "markdown",
   "id": "d55ba11a-fef2-4bcb-8264-5969893a7645",
   "metadata": {},
   "source": [
    "# Comparison of Machine Learning Models"
   ]
  },
  {
   "cell_type": "code",
   "execution_count": null,
   "id": "ffb609b2-07c2-4184-a8a6-a00c8e1dcf07",
   "metadata": {},
   "outputs": [],
   "source": [
    "models.sort_values(by=\"Accuracy Score\", ascending=False)"
   ]
  }
 ],
 "metadata": {
  "kernelspec": {
   "display_name": "Python 3 (ipykernel)",
   "language": "python",
   "name": "python3"
  },
  "language_info": {
   "codemirror_mode": {
    "name": "ipython",
    "version": 3
   },
   "file_extension": ".py",
   "mimetype": "text/x-python",
   "name": "python",
   "nbconvert_exporter": "python",
   "pygments_lexer": "ipython3",
   "version": "3.9.5"
  }
 },
 "nbformat": 4,
 "nbformat_minor": 5
}
